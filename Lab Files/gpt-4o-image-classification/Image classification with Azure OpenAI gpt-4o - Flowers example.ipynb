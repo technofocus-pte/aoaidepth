{
 "cells": [
  {
   "cell_type": "markdown",
   "metadata": {},
   "source": [
    "# Image classification with Azure OpenAI gpt-4o\n",
    "## Use-case: Flowers dataset"
   ]
  },
  {
   "cell_type": "code",
   "execution_count": null,
   "metadata": {},
   "outputs": [],
   "source": [
    "%pip install openai --upgrade"
   ]
  },
  {
   "cell_type": "code",
   "execution_count": null,
   "metadata": {},
   "outputs": [],
   "source": [
    "! pip install ipyplot matplotlib seaborn dotenv scikit-learn\n"
   ]
  },
  {
   "cell_type": "code",
   "execution_count": 2,
   "metadata": {},
   "outputs": [],
   "source": [
    "import base64\n",
    "import glob\n",
    "import ipyplot\n",
    "import matplotlib.pyplot as plt\n",
    "import numpy as np\n",
    "import openai\n",
    "import os\n",
    "import pandas as pd\n",
    "import seaborn as sns\n",
    "import sys\n",
    "\n",
    "from datetime import datetime\n",
    "from dotenv import load_dotenv\n",
    "from mimetypes import guess_type\n",
    "from openai import AzureOpenAI\n",
    "from PIL import Image\n",
    "from sklearn.metrics import confusion_matrix, ConfusionMatrixDisplay, classification_report"
   ]
  },
  {
   "cell_type": "code",
   "execution_count": 3,
   "metadata": {},
   "outputs": [
    {
     "data": {
      "text/plain": [
       "'3.11.5 (tags/v3.11.5:cce6ba9, Aug 24 2023, 14:38:34) [MSC v.1936 64 bit (AMD64)]'"
      ]
     },
     "execution_count": 3,
     "metadata": {},
     "output_type": "execute_result"
    }
   ],
   "source": [
    "sys.version"
   ]
  },
  {
   "cell_type": "code",
   "execution_count": 4,
   "metadata": {},
   "outputs": [
    {
     "name": "stdout",
     "output_type": "stream",
     "text": [
      "Azure OpenAI version: 1.82.0\n"
     ]
    }
   ],
   "source": [
    "print(f\"Azure OpenAI version: {openai.__version__}\")"
   ]
  },
  {
   "cell_type": "code",
   "execution_count": 5,
   "metadata": {},
   "outputs": [
    {
     "name": "stdout",
     "output_type": "stream",
     "text": [
      "Today is 2025-05-30 18:35:41\n"
     ]
    }
   ],
   "source": [
    "now = datetime.now()\n",
    "today = now.strftime(\"%Y-%m-%d %H:%M:%S\")\n",
    "print(f\"Today is {today}\")"
   ]
  },
  {
   "cell_type": "code",
   "execution_count": 7,
   "metadata": {},
   "outputs": [],
   "source": [
    "load_dotenv(\"azure.env\")\n",
    "\n",
    "aoai_key = os.getenv(\"api_key\")\n",
    "aoai_endpoint = os.getenv(\"azure_endpoint\")\n",
    "\n",
    "model = \"gpt-4o\"  # Azure OpenAI model to use"
   ]
  },
  {
   "cell_type": "markdown",
   "metadata": {},
   "source": [
    "## Helper"
   ]
  },
  {
   "cell_type": "code",
   "execution_count": 10,
   "metadata": {},
   "outputs": [],
   "source": [
    "def count_image_files(path):\n",
    "    \"\"\"\n",
    "    Counts and prints the number of image files in each subdirectory of the given directory.\n",
    "\n",
    "    Args:\n",
    "        path (str): The path to the directory to search for image files.\n",
    "    \"\"\"\n",
    "    image_extensions = {'.jpg', '.jpeg', '.png', '.gif', '.bmp', '.tiff'}\n",
    "    nb_images = 0\n",
    "\n",
    "    for root, dirs, files in os.walk(path):\n",
    "        dirs[:] = [d for d in dirs if d != '.ipynb_checkpoints']\n",
    "        for subdir in dirs:\n",
    "            subdir_path = os.path.join(root, subdir)\n",
    "            num_image_files = len([f for f in os.listdir(subdir_path) \n",
    "                                   if os.path.isfile(os.path.join(subdir_path, f)) and \n",
    "                                   os.path.splitext(f)[1].lower() in image_extensions])\n",
    "            print(f\"{subdir_path} | Number of image files = {num_image_files}\")\n",
    "            nb_images += num_image_files\n",
    "\n",
    "    print(f\"\\nTotal number of images files = {nb_images}\")"
   ]
  },
  {
   "cell_type": "code",
   "execution_count": 11,
   "metadata": {},
   "outputs": [],
   "source": [
    "def display_image(image_file):\n",
    "    \"\"\"\n",
    "    Display an image file.\n",
    "\n",
    "    This function checks if the specified image file exists. \n",
    "    If the file exists, it opens and displays the image.\n",
    "    If the file does not exist, it prints an error message.\n",
    "\n",
    "    Parameters:\n",
    "    image_file (str): The path to the image file to be displayed.\n",
    "\n",
    "    Returns:\n",
    "    None\n",
    "    \"\"\"\n",
    "    if not os.path.exists(image_file):\n",
    "        print(f\"[Error] Image file {image_file} does not exist.\")\n",
    "        return None\n",
    "\n",
    "    else:\n",
    "        print(f\"Image file to classify: {image_file}\")\n",
    "        img = Image.open(image_file)\n",
    "        display(img)"
   ]
  },
  {
   "cell_type": "code",
   "execution_count": 12,
   "metadata": {},
   "outputs": [],
   "source": [
    "def local_image_to_url(image_file):\n",
    "    \"\"\"\n",
    "    Convert a local image file to a data URL.\n",
    "\n",
    "    This function checks if the specified image file exists. If the file exists, it reads the file,\n",
    "    encodes its content in base64, and returns a data URL that can be used to embed the image in web pages.\n",
    "    If the file does not exist, it prints an error message and returns None.\n",
    "    \"\"\"\n",
    "    if not os.path.exists(image_file):\n",
    "        print(f\"[Error] Image file {image_file} does not exist.\")\n",
    "        return None\n",
    "    \n",
    "    else:\n",
    "        mime_type, _ = guess_type(image_file)\n",
    "        if mime_type is None:\n",
    "            mime_type = 'application/octet-stream'\n",
    "        with open(image_file, \"rb\") as imagefile:\n",
    "            base64_encoded_data = base64.b64encode(\n",
    "                imagefile.read()).decode('utf-8')\n",
    "        return f\"data:{mime_type};base64,{base64_encoded_data}\""
   ]
  },
  {
   "cell_type": "code",
   "execution_count": 13,
   "metadata": {},
   "outputs": [],
   "source": [
    "def get_image_classification(image_file, model=model):\n",
    "    \"\"\"\n",
    "    Classify an image using an Azure OpenAI model.\n",
    "\n",
    "    This function takes an image file and uses an Azure OpenAI model to classify the image.\n",
    "    It constructs a prompt for the model to analyze the image and return a classification from a \n",
    "    predefined list of classes.\n",
    "    If the model cannot determine the class, it returns 'unknown'.\n",
    "\n",
    "    Parameters:\n",
    "    image_file (str): The path to the image file to be classified.\n",
    "    model (str): The name of the Azure OpenAI model to be used for classification.\n",
    "\n",
    "    Returns:\n",
    "    str: The classification result from the model.\n",
    "    \"\"\"\n",
    "    # Azure OpenAI client\n",
    "    aoai_client = AzureOpenAI(api_key=aoai_key,\n",
    "                              api_version=\"2024-10-21\",\n",
    "                              azure_endpoint=aoai_endpoint)\n",
    "\n",
    "    prompt = f\"\"\"\n",
    "    Analyze the provided image of flowers There are four classes of metal defects in the surface: {class_labels}.\n",
    "    You must always return only one word value from that list. If you do not know always choose 'unknown'.\n",
    "    \"\"\"\n",
    "    # Results\n",
    "    response = aoai_client.chat.completions.create(\n",
    "        model=model,\n",
    "        messages=[{\n",
    "            \"role\": \"system\",\n",
    "            \"content\": \"You are a helpful assistant to analyse image.\"\n",
    "        }, {\n",
    "            \"role\":\n",
    "            \"user\",\n",
    "            \"content\": [{\n",
    "                \"type\": \"text\",\n",
    "                \"text\": prompt\n",
    "            }, {\n",
    "                \"type\": \"image_url\",\n",
    "                \"image_url\": {\n",
    "                    \"url\": f\"{local_image_to_url(image_file)}\"\n",
    "                }\n",
    "            }]\n",
    "        }],\n",
    "        max_tokens=800,\n",
    "        temperature=0.,\n",
    "        top_p=1,\n",
    "        presence_penalty=1,\n",
    "    )\n",
    "\n",
    "    return response.choices[0].message.content"
   ]
  },
  {
   "cell_type": "markdown",
   "metadata": {},
   "source": [
    "## Image classification"
   ]
  },
  {
   "cell_type": "code",
   "execution_count": 15,
   "metadata": {},
   "outputs": [],
   "source": [
    "IMAGES_DIR = \"flowers_images\""
   ]
  },
  {
   "cell_type": "code",
   "execution_count": null,
   "metadata": {},
   "outputs": [],
   "source": [
    "count_image_files(IMAGES_DIR)"
   ]
  },
  {
   "cell_type": "code",
   "execution_count": null,
   "metadata": {},
   "outputs": [],
   "source": [
    "images = glob.glob(IMAGES_DIR +  '/**/*.*')\n",
    "labels = [image.split('/')[-2] if len(image.split('/')) >= 2 else 'unknown' for image in images]\n",
    "\n",
    "ipyplot.plot_class_tabs(images, labels, max_imgs_per_tab=5, img_width=170)"
   ]
  },
  {
   "cell_type": "code",
   "execution_count": null,
   "metadata": {},
   "outputs": [],
   "source": [
    "class_id = [\"class1\", \"class2\", \"class3\", \"class4\"]\n",
    "class_labels = [\"dandelion\", \"rose\", \"sunflower\", \"daisy\"]\n",
    "\n",
    "df_classes = pd.DataFrame({\"class_id\": class_id, \"class_labels\": class_labels})\n",
    "df_classes"
   ]
  },
  {
   "cell_type": "markdown",
   "metadata": {},
   "source": [
    "### Tests"
   ]
  },
  {
   "cell_type": "code",
   "execution_count": null,
   "metadata": {},
   "outputs": [],
   "source": [
    "import os\n",
    "\n",
    "# Set the image file path\n",
    "image_file = os.path.join(IMAGES_DIR, \"class1/dandelion (1).jpg\")\n",
    "\n",
    "# Display the image (if you have a helper function for that)\n",
    "display_image(image_file)\n",
    "\n",
    "# Predict the class using your model\n",
    "prediction = get_image_classification(image_file)\n",
    "\n",
    "# Extract the class ID from the folder name\n",
    "true_class_id = os.path.basename(os.path.dirname(image_file))\n",
    "\n",
    "# Lookup the true class label from the dataframe\n",
    "filtered = df_classes.loc[df_classes['class_id'] == true_class_id, 'class_labels']\n",
    "\n",
    "# Check if a matching class was found\n",
    "if not filtered.empty:\n",
    "    true_class = filtered.values[0]\n",
    "    print(f\"True class: {true_class}\\nPredicted class: {prediction}\")\n",
    "    print(\"Prediction is CORRECT\" if prediction == true_class else \"Prediction is INCORRECT\")\n",
    "else:\n",
    "    print(f\"Class ID '{true_class_id}' not found in df_classes\")"
   ]
  },
  {
   "cell_type": "code",
   "execution_count": null,
   "metadata": {},
   "outputs": [],
   "source": [
    "import os\n",
    "\n",
    "image_file = os.path.join(IMAGES_DIR, \"class2/rose (1).jpg\")\n",
    "\n",
    "display_image(image_file)\n",
    "\n",
    "prediction = get_image_classification(image_file)\n",
    "\n",
    "true_class_id = os.path.basename(os.path.dirname(image_file))  # Correct way to extract class\n",
    "true_class = df_classes.loc[df_classes['class_id'] == true_class_id, 'class_labels'].values[0]\n",
    "\n",
    "print(f\"True class: {true_class}\\nPredicted class: {prediction}\")\n",
    "print(\"Prediction is CORRECT\" if prediction == true_class else \"Prediction is INCORRECT\")"
   ]
  },
  {
   "cell_type": "code",
   "execution_count": null,
   "metadata": {},
   "outputs": [],
   "source": [
    "image_file = os.path.join(IMAGES_DIR, \"class3/sunflower (1).jpg\")\n",
    "\n",
    "display_image(image_file)\n",
    "\n",
    "prediction = get_image_classification(image_file)\n",
    "true_class_id = os.path.basename(os.path.dirname(image_file))\n",
    "true_class = df_classes.loc[df_classes['class_id'] == true_class_id, 'class_labels'].values[0]\n",
    "\n",
    "print(f\"True class: {true_class}\\nPredicted class: {prediction}\")\n",
    "print(\"Prediction is CORRECT\" if prediction == true_class else \"Prediction is INCORRECT\")"
   ]
  },
  {
   "cell_type": "code",
   "execution_count": null,
   "metadata": {},
   "outputs": [],
   "source": [
    "image_file = os.path.join(IMAGES_DIR, \"class4/daisy (1).jpg\")\n",
    "\n",
    "display_image(image_file)\n",
    "\n",
    "prediction = get_image_classification(image_file)\n",
    "true_class_id = os.path.basename(os.path.dirname(image_file))\n",
    "true_class = df_classes.loc[df_classes['class_id'] == true_class_id, 'class_labels'].values[0]\n",
    "\n",
    "print(f\"True class: {true_class}\\nPredicted class: {prediction}\")\n",
    "print(\"Prediction is CORRECT\" if prediction == true_class else \"Prediction is INCORRECT\")\n"
   ]
  },
  {
   "cell_type": "markdown",
   "metadata": {},
   "source": [
    "## Confusion matrix"
   ]
  },
  {
   "cell_type": "code",
   "execution_count": null,
   "metadata": {},
   "outputs": [],
   "source": [
    "results = []\n",
    "idx = 1\n",
    "\n",
    "for root, dirs, files in os.walk(IMAGES_DIR):\n",
    "    for file in files:\n",
    "        file_path = os.path.join(root, file)\n",
    "        try:\n",
    "            # True label\n",
    "            true_labels = df_classes.loc[df_classes['class_id'] ==\n",
    "                                         os.path.basename(root),\n",
    "                                         'class_labels'].values[0]\n",
    "            # Predicted label with GPT-4o\n",
    "            predicted_labels = get_image_classification(file_path)\n",
    "            print(\n",
    "                f\"{idx:3} {file_path:50} True label = {true_labels:15} Predicted label = {predicted_labels}\"\n",
    "            )\n",
    "            results.append({\n",
    "                \"filename\": file,\n",
    "                \"true_labels\": true_labels,\n",
    "                \"predicted_labels\": predicted_labels\n",
    "            })\n",
    "            idx += 1\n",
    "\n",
    "        except Exception as e:\n",
    "            print(f\"Error processing {file_path}: {e}\")"
   ]
  },
  {
   "cell_type": "code",
   "execution_count": null,
   "metadata": {},
   "outputs": [],
   "source": [
    "print(f\"Total of processed images = {idx-1}\")"
   ]
  },
  {
   "cell_type": "code",
   "execution_count": null,
   "metadata": {},
   "outputs": [],
   "source": [
    "df = pd.DataFrame(results)\n",
    "df"
   ]
  },
  {
   "cell_type": "code",
   "execution_count": null,
   "metadata": {},
   "outputs": [],
   "source": [
    "print(\"True label distribution\")\n",
    "\n",
    "df['true_labels'].value_counts(sort=False).sort_index().plot(kind='barh')\n",
    "plt.xlabel('Labels')\n",
    "plt.ylabel('Count')\n",
    "plt.title('Label Frequency')\n",
    "plt.show()"
   ]
  },
  {
   "cell_type": "code",
   "execution_count": null,
   "metadata": {},
   "outputs": [],
   "source": [
    "print(\"Predicted labels distribution\")\n",
    "\n",
    "df['predicted_labels'].value_counts(sort=False).sort_index().plot(kind='barh')\n",
    "plt.xlabel('Labels')\n",
    "plt.ylabel('Count')\n",
    "plt.title('Label Frequency')\n",
    "plt.show()"
   ]
  },
  {
   "cell_type": "code",
   "execution_count": null,
   "metadata": {},
   "outputs": [],
   "source": [
    "# Convert to numpy arrays\n",
    "y_true = df[['true_labels']].to_numpy()\n",
    "y_pred = df[['predicted_labels']].to_numpy()\n",
    "labels = np.unique(np.concatenate([y_true, y_pred]))\n",
    "\n",
    "# Confusion matrix\n",
    "cm = confusion_matrix(y_true, y_pred, labels=labels)\n",
    "disp = ConfusionMatrixDisplay(confusion_matrix=cm, display_labels=labels)\n",
    "fig, ax = plt.subplots(figsize=(8, 8))\n",
    "disp.plot(cmap=plt.cm.Blues, ax=ax, colorbar=False)\n",
    "\n",
    "for (i, j), value in np.ndenumerate(cm):\n",
    "    ax.text(j,\n",
    "            i,\n",
    "            f\"{value}\",\n",
    "            ha=\"center\",\n",
    "            va=\"center\",\n",
    "            fontsize=10,\n",
    "            color=\"red\")\n",
    "\n",
    "ax.set_title(\"Confusion Matrix of image classification with Azure OpenAI gpt-4o base model\",\n",
    "             fontsize=12,\n",
    "             pad=20)\n",
    "\n",
    "ax.set_xlabel(\"Predicted class\", fontsize=12, labelpad=10)\n",
    "ax.set_ylabel(\"True class\", fontsize=12, labelpad=10)\n",
    "ax.xaxis.set_label_position(\"top\")\n",
    "ax.xaxis.tick_top()\n",
    "ax.tick_params(axis='both', which='major', labelsize=8)\n",
    "ax.set_xticks(np.arange(len(class_labels)), minor=True)\n",
    "ax.set_yticks(np.arange(len(class_labels)), minor=True)\n",
    "ax.grid(which=\"minor\", color=\"black\", linestyle=\"--\", linewidth=1)\n",
    "plt.subplots_adjust(bottom=0.1, top=0.9, left=0.15, right=0.85)\n",
    "\n",
    "plt.show()"
   ]
  },
  {
   "cell_type": "code",
   "execution_count": null,
   "metadata": {},
   "outputs": [],
   "source": [
    "print(classification_report(y_true, y_pred, target_names=labels, zero_division=0))"
   ]
  },
  {
   "cell_type": "code",
   "execution_count": null,
   "metadata": {},
   "outputs": [],
   "source": [
    "accuracy = np.diag(cm).sum() / cm.sum()\n",
    "print(f'Accuracy = {accuracy:.2f}')"
   ]
  },
  {
   "cell_type": "markdown",
   "metadata": {},
   "source": [
    "> Azure OpenAI gpt-4o \"Zero-shot classification\" refers to the ability of a model to correctly classify data it has never seen before, without any specific custom training on that particular type of data. The model is performing reasonably well despite on this kind of usual flower images."
   ]
  },
  {
   "cell_type": "code",
   "execution_count": null,
   "metadata": {},
   "outputs": [],
   "source": []
  }
 ],
 "metadata": {
  "kernelspec": {
   "display_name": "Python 3",
   "language": "python",
   "name": "python3"
  },
  "language_info": {
   "codemirror_mode": {
    "name": "ipython",
    "version": 3
   },
   "file_extension": ".py",
   "mimetype": "text/x-python",
   "name": "python",
   "nbconvert_exporter": "python",
   "pygments_lexer": "ipython3",
   "version": "3.11.5"
  },
  "varInspector": {
   "cols": {
    "lenName": 16,
    "lenType": 16,
    "lenVar": 40
   },
   "kernels_config": {
    "python": {
     "delete_cmd_postfix": "",
     "delete_cmd_prefix": "del ",
     "library": "var_list.py",
     "varRefreshCmd": "print(var_dic_list())"
    },
    "r": {
     "delete_cmd_postfix": ") ",
     "delete_cmd_prefix": "rm(",
     "library": "var_list.r",
     "varRefreshCmd": "cat(var_dic_list()) "
    }
   },
   "types_to_exclude": [
    "module",
    "function",
    "builtin_function_or_method",
    "instance",
    "_Feature"
   ],
   "window_display": false
  }
 },
 "nbformat": 4,
 "nbformat_minor": 4
}
